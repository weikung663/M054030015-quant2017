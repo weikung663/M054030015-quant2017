{
 "cells": [
  {
   "cell_type": "code",
   "execution_count": 76,
   "metadata": {
    "collapsed": true
   },
   "outputs": [],
   "source": [
    "import requests\n",
    "from bs4 import BeautifulSoup"
   ]
  },
  {
   "cell_type": "code",
   "execution_count": 77,
   "metadata": {
    "collapsed": true
   },
   "outputs": [],
   "source": [
    "url = \"https://news.cnyes.com/news/id/3965953\""
   ]
  },
  {
   "cell_type": "code",
   "execution_count": 78,
   "metadata": {
    "collapsed": true
   },
   "outputs": [],
   "source": [
    "r = requests.get(url)\n",
    "r.encoding = \"UTF-8\""
   ]
  },
  {
   "cell_type": "code",
   "execution_count": 79,
   "metadata": {
    "collapsed": true,
    "scrolled": true
   },
   "outputs": [],
   "source": [
    "soup = BeautifulSoup(r.text, \"lxml\")\n",
    "news_text = soup.select(\"div[itemprop=articleBody]\")[0].text"
   ]
  },
  {
   "cell_type": "code",
   "execution_count": 80,
   "metadata": {
    "collapsed": true
   },
   "outputs": [],
   "source": [
    "import jieba\n",
    "import jieba.analyse"
   ]
  },
  {
   "cell_type": "code",
   "execution_count": 81,
   "metadata": {},
   "outputs": [
    {
     "data": {
      "text/plain": [
       "['投資', '基金', '中國', '公開', 'MSCI', '機構', '明書', '金融', '消費', '資金']"
      ]
     },
     "execution_count": 81,
     "metadata": {},
     "output_type": "execute_result"
    }
   ],
   "source": [
    "keywords = jieba.analyse.extract_tags(news_text, topK=10, withWeight=False)\n",
    "keywords"
   ]
  },
  {
   "cell_type": "code",
   "execution_count": 82,
   "metadata": {},
   "outputs": [
    {
     "name": "stdout",
     "output_type": "stream",
     "text": [
      "[('基金', 1.0), ('投資', 0.9880899465509542), ('金融', 0.5610083391244685), ('資金', 0.3286173167619348), ('公司', 0.2990371512620624), ('機構', 0.29756915268941986), ('說明', 0.2916903416487484), ('企業', 0.28288433824782583), ('風險', 0.2819884918424283), ('指數', 0.26770155437130416)]\n"
     ]
    }
   ],
   "source": [
    "print ((jieba.analyse.textrank(news_text, topK=10, withWeight=True)))"
   ]
  },
  {
   "cell_type": "code",
   "execution_count": 83,
   "metadata": {},
   "outputs": [
    {
     "name": "stdout",
     "output_type": "stream",
     "text": [
      "[('投資', 0.1767802957914972), ('基金', 0.15627930781242144), ('中國', 0.15468275881756005), ('公開', 0.15468275881756005), ('MSCI', 0.1325852218436229), ('機構', 0.11048768486968576), ('明書', 0.11048768486968576), ('金融', 0.0970555147750462), ('消費', 0.0883901478957486), ('資金', 0.0883901478957486)]\n"
     ]
    }
   ],
   "source": [
    "print (jieba.analyse.extract_tags(news_text, topK=10, withWeight=True))"
   ]
  },
  {
   "cell_type": "code",
   "execution_count": 84,
   "metadata": {
    "collapsed": true,
    "scrolled": false
   },
   "outputs": [],
   "source": [
    "def index_of_keyword(sentences, keyword):\n",
    "    for i, s in enumerate(sentences):\n",
    "        if keyword in s:\n",
    "              return i\n",
    "    return -1"
   ]
  },
  {
   "cell_type": "code",
   "execution_count": 85,
   "metadata": {},
   "outputs": [
    {
     "data": {
      "text/plain": [
       "19"
      ]
     },
     "execution_count": 85,
     "metadata": {},
     "output_type": "execute_result"
    }
   ],
   "source": [
    "sentences = news_text.replace(\"\\n\",\"\").split(u\"。\")\n",
    "len(sentences)"
   ]
  },
  {
   "cell_type": "code",
   "execution_count": 86,
   "metadata": {},
   "outputs": [
    {
     "name": "stdout",
     "output_type": "stream",
     "text": [
      "根據彭博資訊與中國券商統計，中國的 QFII（合格境外機構投資者）獲准家數與額度不斷增加，至 2017 年 10 月底為止，311 家 QFII 獲批的投資額度已達 944.9 億美元；值得注意的是，外資法人增持 A 股動作明顯，第三季底持股市值比第二季底增加了 17%，顯示其樂觀看好後市，而加碼重心主要是大消費行業的龍頭股。\n",
      "統一大龍騰中國基金暨統一大中華中小基金經理人陳朝政表示，中國總經數據持續改善，中共「十九大」定調未來政經發展方向，政策風險降低，民間資金可望重新入市，搭配經濟穩增長、全球消費旺季題材，以及 A 股納入 MSCI 指數長線效益，A 股行情可期，不過，由於金融監管與改革仍持續中，預料是指數緩升，個股表現為主，投資側重產業選股。\n",
      "陳朝政指出，長線資金入市、企業獲利成長、股市估值不高，是中國 A 股相較全球股市更具投資優勢的三大基礎。\n",
      "資金方面，MSCI 預定明年 6 月起，將 A 股納入 MSCI 新興市場指數和 MSCI ACWI 全球指數，近期又宣布，預計明年 3 月發布新的 MSCI 中國 A 股指數，僅追蹤大陸與香港互聯互通機制涵蓋的個股。\n",
      "看好 A 股前景，境內外長線資金持續買入 A 股，觀察滬深兩市上市公司前十大流通股東名單，QFII、各國央行、社保基金、證金、保險等機構法人，占據的數量與份額越來越高；另根據一家中國券商統計，若加計公募基金、陽光私募及國家隊基金，主要機構法人在 A 股的平均持股比重已提高到三成以上。\n",
      "陳朝政認為，相對穩定、重視長線投資價值的機構法人，對 A 股結構與投資風格的影響將與日俱增，而具有風向球與指標意義的 MSCI 成份股，也會是市場持續聚焦的題材，此外，在陸港互聯互通機制的推動下，看好香港股市也將持續受惠於增量資金入市，估值修復行情可望延續。\n",
      "企業獲利與股市估值方面，A 股第三季財報亮麗，整體獲利年增率 18%，不含金融的獲利年增率則高達 35%，符合中高速成長經濟體應有的表現。\n",
      "預期未來隨著供給側改革深入推進，市場供需將逐步改善，企業營收有望提升。\n",
      "目前上證 50 指數本益比 12.5 倍、香港國企股指數只有 8.9 倍，皆低於歷史平均，企業獲利持續成長，有助陸港股評價維持相對低檔，提升其投資價值。\n",
      "陳朝政指出，從外資全球配置策略的角度思考，擁有本土市場優勢、具備一定的稀缺性、占據領導地位的品牌龍頭股，會是外資主要青睞目標，預料潛在受惠股多集中在食品飲料、金融、家電、交通運輸等大型藍籌股。\n",
      "此外，與「十九大」高度連結的健康醫療、環保、大數據、人工智能，以及新消費與新技術相關的 OLED、TMT、雲端計算、物流等相關領域也值得多加關注。\n",
      "◇警語：基金經金管會核准或同意生效，惟不表示絕無風險。\n",
      "本公司以往之經理績效不保證基金之最低投資收益；本公司除盡善良管理人之注意義務外，不負責本基金之盈虧，亦不保證最低之收益，投資人申購前應詳閱基金公開說明書，基金應負擔之費用已揭露於基金公開說明書中。\n",
      "投資人可至本公司及基金銷售機構索取公開說明書或簡式公開說明書，或至本公司網站或公開資訊觀測站自行下載。\n",
      "本文提及之經濟走勢預測不必然代表本基金之績效，本基金投資風險請詳閱基金公開說明書。\n",
      "本基金無受存款保險、保險安定基金或其他相關保障機制之保障，投資本基金可能發生部分或本金之損失，最大損失為全部投資之金額，投資人須自負盈虧。\n",
      "關於「金融消費者對該金融商品（或服務）之權利行使、變更、解除及終止」、「金融消費者對該金融商品（或服務）之重要權利、義務及責任」、「金融消費者應負擔之費用（及違約金）」以及「基金可能涉及之風險資訊」，請詳閱本基金公開說明書「買回受益憑證」、「受益人之權利及費用負擔」、「基金之資訊揭露」及「投資風險之揭露」等章節。\n",
      "就經理公司所提供之金融商品或服務所生紛爭投資人應先向經理公司提出申訴，若 30 日內未獲回覆或投資人不滿意處理結果得於 60 日內向「金融消費評議中心」申請評議。\n",
      " 。\n"
     ]
    }
   ],
   "source": [
    "for sentence in sentences:\n",
    "    print (sentence + u\"。\")"
   ]
  },
  {
   "cell_type": "code",
   "execution_count": 87,
   "metadata": {},
   "outputs": [
    {
     "data": {
      "text/plain": [
       "1"
      ]
     },
     "execution_count": 87,
     "metadata": {},
     "output_type": "execute_result"
    }
   ],
   "source": [
    "index_of_keyword(sentences,u'基金')"
   ]
  },
  {
   "cell_type": "code",
   "execution_count": 88,
   "metadata": {},
   "outputs": [
    {
     "name": "stdout",
     "output_type": "stream",
     "text": [
      "統一大龍騰中國基金暨統一大中華中小基金經理人陳朝政表示，中國總經數據持續改善，中共「十九大」定調未來政經發展方向，政策風險降低，民間資金可望重新入市，搭配經濟穩增長、全球消費旺季題材，以及 A 股納入 MSCI 指數長線效益，A 股行情可期，不過，由於金融監管與改革仍持續中，預料是指數緩升，個股表現為主，投資側重產業選股。\n"
     ]
    }
   ],
   "source": [
    "print (sentences[index_of_keyword(sentences,u\"基金\")]+u\"。\")"
   ]
  },
  {
   "cell_type": "code",
   "execution_count": 89,
   "metadata": {},
   "outputs": [
    {
     "data": {
      "text/plain": [
       "163"
      ]
     },
     "execution_count": 89,
     "metadata": {},
     "output_type": "execute_result"
    }
   ],
   "source": [
    "len(sentences[0])"
   ]
  },
  {
   "cell_type": "code",
   "execution_count": 90,
   "metadata": {
    "collapsed": true
   },
   "outputs": [],
   "source": [
    "s_index = []\n",
    "for keyword in keywords[0:3]:\n",
    "    s_index.append(index_of_keyword(sentences,keyword))\n",
    "\n",
    "s_set = set(s_index)\n",
    "s_index = list(s_set)"
   ]
  },
  {
   "cell_type": "code",
   "execution_count": 91,
   "metadata": {
    "collapsed": true
   },
   "outputs": [],
   "source": [
    "summary = \"\"\n",
    "for i in s_index:\n",
    "    summary += sentences[i]+u\"。\""
   ]
  },
  {
   "cell_type": "code",
   "execution_count": 92,
   "metadata": {},
   "outputs": [
    {
     "name": "stdout",
     "output_type": "stream",
     "text": [
      "根據彭博資訊與中國券商統計，中國的 QFII（合格境外機構投資者）獲准家數與額度不斷增加，至 2017 年 10 月底為止，311 家 QFII 獲批的投資額度已達 944.9 億美元；值得注意的是，外資法人增持 A 股動作明顯，第三季底持股市值比第二季底增加了 17%，顯示其樂觀看好後市，而加碼重心主要是大消費行業的龍頭股。統一大龍騰中國基金暨統一大中華中小基金經理人陳朝政表示，中國總經數據持續改善，中共「十九大」定調未來政經發展方向，政策風險降低，民間資金可望重新入市，搭配經濟穩增長、全球消費旺季題材，以及 A 股納入 MSCI 指數長線效益，A 股行情可期，不過，由於金融監管與改革仍持續中，預料是指數緩升，個股表現為主，投資側重產業選股。\n"
     ]
    }
   ],
   "source": [
    "print (summary)"
   ]
  },
  {
   "cell_type": "code",
   "execution_count": 93,
   "metadata": {},
   "outputs": [
    {
     "name": "stdout",
     "output_type": "stream",
     "text": [
      "\n",
      "根據彭博資訊與中國券商統計，中國的 QFII（合格境外機構投資者）獲准家數與額度不斷增加，至 2017 年 10 月底為止，311 家 QFII 獲批的投資額度已達 944.9 億美元；值得注意的是，外資法人增持 A 股動作明顯，第三季底持股市值比第二季底增加了 17%，顯示其樂觀看好後市，而加碼重心主要是大消費行業的龍頭股。\n"
     ]
    }
   ],
   "source": [
    "print (news_summary)"
   ]
  }
 ],
 "metadata": {
  "kernelspec": {
   "display_name": "Python 3",
   "language": "python",
   "name": "python3"
  },
  "language_info": {
   "codemirror_mode": {
    "name": "ipython",
    "version": 3
   },
   "file_extension": ".py",
   "mimetype": "text/x-python",
   "name": "python",
   "nbconvert_exporter": "python",
   "pygments_lexer": "ipython3",
   "version": "3.6.2"
  }
 },
 "nbformat": 4,
 "nbformat_minor": 2
}
