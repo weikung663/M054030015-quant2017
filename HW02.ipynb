{
 "cells": [
  {
   "cell_type": "code",
   "execution_count": 96,
   "metadata": {
    "collapsed": true
   },
   "outputs": [],
   "source": [
    "#載入模組\n",
    "import os"
   ]
  },
  {
   "cell_type": "code",
   "execution_count": 103,
   "metadata": {
    "scrolled": true
   },
   "outputs": [
    {
     "name": "stdout",
     "output_type": "stream",
     "text": [
      "Hello World!\n",
      "This is Alice's greeting.\n",
      "This is Bob's greeting.\n",
      "5 plus 10 is equal to 15\n",
      "foo\n",
      "==========\n",
      "Current working directory is<built-in function getcwd>\n",
      "I like to eat apples\n",
      "I like to eat oranges\n",
      "I like to eat cats\n",
      "count to ten:\n",
      "0\n",
      "1\n",
      "2\n",
      "3\n",
      "4\n",
      "5\n",
      "6\n",
      "7\n",
      "8\n",
      "9\n"
     ]
    }
   ],
   "source": [
    "#定義一個function叫 main\n",
    "def main():\n",
    "#顯示 Hello World!   \n",
    "    print('Hello World!')\n",
    "#表達print時單引號或雙引號都可以使用  單引號時要如何避開字串中的'\n",
    "    print(\"This is Alice's greeting.\")\n",
    "    print('This is Bob\\'s greeting.')\n",
    "#給定數值為(5,10)來呼叫函數foo\n",
    "    foo(5,10)\n",
    "#字串用上乘數可重複\n",
    "    print('='*10)\n",
    "#使用os.getcwd呼叫上一層資料夾名稱\n",
    "    print('Current working directory is'+str(os.getcwd))\n",
    "#定義變數counter 但好像沒用到\n",
    "    counter= 0\n",
    "    counter+= 1\n",
    "#建立一個list 叫 food\n",
    "    food=['apples','oranges','cats']\n",
    "#建立一個以food做的迴圈 當依序跑完整個list內的值便結束\n",
    "    for i in food:\n",
    "        print('I like to eat '+ i)\n",
    "#以range函數建一個數到10的函數，但應改為(11)才會數到10\n",
    "    print('count to ten:')\n",
    "    for i in range(10):\n",
    "        print (i)\n",
    "#定義函數foo及3個值分別為param1,secondparam,res\n",
    "def foo(param1,secondparam):\n",
    "    res = param1 + secondparam\n",
    "#以%s來使用str()將字串輸出 使用%來依序呼叫data取代%s的位置\n",
    "    print ('%s plus %s is equal to %s' % (param1,secondparam,res))\n",
    "# if elif else 設定函數條件 每個if elif...後面都要加分號\n",
    "    if res <50:\n",
    "        print('foo')\n",
    "    elif (res >=50) and ((param1==42) or (secondparam==24) ):\n",
    "        print('bar')\n",
    "    else:\n",
    "        print('moo')\n",
    "    return res\n",
    "#若__name__執行結果為__main__便執行整個main()\n",
    "if __name__=='__main__':\n",
    "    main()\n"
   ]
  },
  {
   "cell_type": "code",
   "execution_count": null,
   "metadata": {
    "collapsed": true
   },
   "outputs": [],
   "source": []
  }
 ],
 "metadata": {
  "kernelspec": {
   "display_name": "Python 3",
   "language": "python",
   "name": "python3"
  },
  "language_info": {
   "codemirror_mode": {
    "name": "ipython",
    "version": 3
   },
   "file_extension": ".py",
   "mimetype": "text/x-python",
   "name": "python",
   "nbconvert_exporter": "python",
   "pygments_lexer": "ipython3",
   "version": "3.6.2"
  }
 },
 "nbformat": 4,
 "nbformat_minor": 2
}
