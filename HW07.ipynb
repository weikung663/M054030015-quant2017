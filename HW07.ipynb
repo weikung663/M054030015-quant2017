{
 "cells": [
  {
   "cell_type": "markdown",
   "metadata": {},
   "source": [
    "Total Returns\n",
    "145.42%\n",
    " \n",
    "Alpha\n",
    "0.11\n",
    " \n",
    "Beta\n",
    "1.06\n",
    " \n",
    "Sharpe\n",
    "1.11\n",
    " \n",
    "Max Drawdown\n",
    "-30.43%"
   ]
  },
  {
   "cell_type": "code",
   "execution_count": 2,
   "metadata": {
    "collapsed": true
   },
   "outputs": [],
   "source": [
    "#同樣選AAPL作為回測標的\n",
    "def initialize(context):\n",
    "    context.security = sid(24)\n",
    "    schedule_function(rebalance, date_rule=date_rules.every_day())"
   ]
  },
  {
   "cell_type": "code",
   "execution_count": 5,
   "metadata": {
    "collapsed": true
   },
   "outputs": [],
   "source": [
    "#設定價量資料\n",
    "def rebalance(context, data):\n",
    "\n",
    "    price_history = data.history(\n",
    "        context.security,\n",
    "        fields='price',\n",
    "        bar_count=20,\n",
    "        frequency='1d'\n",
    "    )\n",
    "    volume_history = data.history(\n",
    "        context.security,\n",
    "        fields='volume',\n",
    "        bar_count=20,\n",
    "        frequency='1d'\n",
    "    )\n",
    "#設定均價均量    \n",
    "    average_price = price_history.mean()\n",
    "    average_volume = volume_history.mean()\n",
    "    \n",
    "    current_price = data.current(context.security, 'price') \n",
    "    current_volume = data.current(context.security, 'volume')"
   ]
  },
  {
   "cell_type": "code",
   "execution_count": null,
   "metadata": {
    "collapsed": true
   },
   "outputs": [],
   "source": [
    "#設定進出場條件\n",
    "if data.can_trade(context.security):\n",
    "        if current_price <  average_price :\n",
    "            #低於均價即買進\n",
    "            order_target_percent(context.security, 1)\n",
    "            log.info(\"Buying %s\" % (context.security.symbol))\n",
    "        elif current_price > (1.15*average_price):\n",
    "            #高於均價15%即賣出\n",
    "            order_target_percent(context.security, 0)\n",
    "            log.info(\"Selling %s\" % (context.security.symbol))\n",
    "            #量高於均量5%即買進\n",
    "        elif current_volume > (1.05*average_volume):\n",
    "            order_target_percent(context.security, 1)\n",
    "            log.info(\"Buying %s\" % (context.security.symbol))"
   ]
  },
  {
   "cell_type": "code",
   "execution_count": null,
   "metadata": {
    "collapsed": true
   },
   "outputs": [],
   "source": [
    "#結果\n",
    "record(current_price=current_price, average_price=average_price)\n",
    "record(current_volume=current_volume, average_volume=average_volume)"
   ]
  }
 ],
 "metadata": {
  "kernelspec": {
   "display_name": "Python 3",
   "language": "python",
   "name": "python3"
  },
  "language_info": {
   "codemirror_mode": {
    "name": "ipython",
    "version": 3
   },
   "file_extension": ".py",
   "mimetype": "text/x-python",
   "name": "python",
   "nbconvert_exporter": "python",
   "pygments_lexer": "ipython3",
   "version": "3.6.2"
  }
 },
 "nbformat": 4,
 "nbformat_minor": 2
}
